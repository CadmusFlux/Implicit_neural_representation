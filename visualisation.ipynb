{
 "cells": [
  {
   "cell_type": "code",
   "execution_count": 1,
   "metadata": {},
   "outputs": [
    {
     "name": "stderr",
     "output_type": "stream",
     "text": [
      "c:\\MLAI\\lib\\site-packages\\umap\\distances.py:1063: NumbaDeprecationWarning: \u001b[1mThe 'nopython' keyword argument was not supplied to the 'numba.jit' decorator. The implicit default value for this argument is currently False, but it will be changed to True in Numba 0.59.0. See https://numba.readthedocs.io/en/stable/reference/deprecation.html#deprecation-of-object-mode-fall-back-behaviour-when-using-jit for details.\u001b[0m\n",
      "  @numba.jit()\n",
      "c:\\MLAI\\lib\\site-packages\\umap\\distances.py:1071: NumbaDeprecationWarning: \u001b[1mThe 'nopython' keyword argument was not supplied to the 'numba.jit' decorator. The implicit default value for this argument is currently False, but it will be changed to True in Numba 0.59.0. See https://numba.readthedocs.io/en/stable/reference/deprecation.html#deprecation-of-object-mode-fall-back-behaviour-when-using-jit for details.\u001b[0m\n",
      "  @numba.jit()\n",
      "c:\\MLAI\\lib\\site-packages\\umap\\distances.py:1086: NumbaDeprecationWarning: \u001b[1mThe 'nopython' keyword argument was not supplied to the 'numba.jit' decorator. The implicit default value for this argument is currently False, but it will be changed to True in Numba 0.59.0. See https://numba.readthedocs.io/en/stable/reference/deprecation.html#deprecation-of-object-mode-fall-back-behaviour-when-using-jit for details.\u001b[0m\n",
      "  @numba.jit()\n",
      "c:\\MLAI\\lib\\site-packages\\umap\\umap_.py:660: NumbaDeprecationWarning: \u001b[1mThe 'nopython' keyword argument was not supplied to the 'numba.jit' decorator. The implicit default value for this argument is currently False, but it will be changed to True in Numba 0.59.0. See https://numba.readthedocs.io/en/stable/reference/deprecation.html#deprecation-of-object-mode-fall-back-behaviour-when-using-jit for details.\u001b[0m\n",
      "  @numba.jit()\n"
     ]
    }
   ],
   "source": [
    "%matplotlib inline\n",
    "\n",
    "from tqdm.notebook import tqdm as tqdm\n",
    "\n",
    "# Data Processing \n",
    "\n",
    "from sklearn.model_selection import train_test_split\n",
    "from sklearn.ensemble import RandomForestClassifier\n",
    "from sklearn.preprocessing import StandardScaler\n",
    "from sklearn.linear_model import LogisticRegression\n",
    "from sklearn.metrics import accuracy_score\n",
    "from sklearn.decomposition import PCA\n",
    "from sklearn import metrics\n",
    "\n",
    "# Plotting \n",
    "\n",
    "import matplotlib.pyplot as plt\n",
    "import matplotlib.colors\n",
    "import seaborn as sns\n",
    "\n",
    "# Data\n",
    "\n",
    "import numpy as np\n",
    "\n",
    "## Utility Tools\n",
    "\n",
    "import itertools as it\n",
    "import pickle\n",
    "import umap\n",
    "import gc\n"
   ]
  },
  {
   "attachments": {},
   "cell_type": "markdown",
   "metadata": {},
   "source": [
    "### Loading Data"
   ]
  },
  {
   "cell_type": "code",
   "execution_count": 2,
   "metadata": {},
   "outputs": [
    {
     "data": {
      "text/plain": [
       "231"
      ]
     },
     "execution_count": 2,
     "metadata": {},
     "output_type": "execute_result"
    }
   ],
   "source": [
    "gc.collect()"
   ]
  },
  {
   "cell_type": "code",
   "execution_count": 3,
   "metadata": {},
   "outputs": [],
   "source": [
    "with open(\"../data/labels\", 'rb') as fp:\n",
    "    targets = pickle.load(fp)\n",
    "\n",
    "with open('../data/weights_dictionary.pkl', 'rb') as fp:\n",
    "    weights = pickle.load(fp)\n",
    "\n",
    "targets = np.array(targets) ##new"
   ]
  },
  {
   "cell_type": "code",
   "execution_count": 4,
   "metadata": {},
   "outputs": [],
   "source": [
    "weights_array = np.array(tuple(weights.values()))"
   ]
  },
  {
   "attachments": {},
   "cell_type": "markdown",
   "metadata": {},
   "source": [
    "### UMAP"
   ]
  },
  {
   "cell_type": "code",
   "execution_count": null,
   "metadata": {},
   "outputs": [],
   "source": [
    "reducer = umap.UMAP(random_state=42)"
   ]
  },
  {
   "cell_type": "code",
   "execution_count": null,
   "metadata": {},
   "outputs": [],
   "source": [
    "def plot_fig(embed,tg,digits): \n",
    "\n",
    "    plt.figure(figsize=(10,6))\n",
    "\n",
    "    sc = plt.scatter(embed[:, 0], embed[:, 1], c=tg, cmap='Spectral', s=10)\n",
    "    plt.gca().set_aspect('equal', 'datalim')\n",
    "    plt.legend(handles=sc.legend_elements()[0], labels=list(digits), prop={'size': 10})\n",
    "\n",
    "    plt.title(\"UMAP projection of digits {digit1} - {digit2} \".format(digit1 = digits[0],digit2 = digits[1] ), fontsize=15);\n",
    "    plt.savefig(\"C:/Users/ayush/OneDrive/Desktop/UoE/Dissertation/Implicit Networks/plots/umaps/{digit1}_{digit2}.pdf\".format(digit1 = digits[0],digit2 = digits[1]))\n",
    "\n",
    "    # colors = [\"darkorchid\", \"crimson\", \"limegreen\", \"gold\"]\n",
    "    # cmap = matplotlib.colors.ListedColormap(colors[:len(digits)])\n",
    "    # cmap=plt.cm.get_cmap('Qualitative', len(digits))\n",
    "\n",
    "    # norm = matplotlib.colors.BoundaryNorm(digits, len(colors))\n",
    "\n",
    "    # scatter = plt.scatter(\n",
    "    #     embed[:, 0],\n",
    "    #     embed[:, 1],\n",
    "    #     c=tg,\n",
    "    #     cmap=cmap, \n",
    "    #     norm=norm\n",
    "    # )\n",
    "\n",
    "    # plt.gca().set_aspect('equal', 'datalim')\n",
    "    # plt.title('UMAP projection of the MNIST dataset', fontsize=24)\n",
    "\n",
    "    # plt.colorbar(scatter,boundaries=digits-0.5).set_ticks(digits)\n",
    "    # plt.colorbar(scatter)\n",
    "    # plt.scatter(embed[-1,0], embed[-1,1],color='r')\n",
    "    \n",
    "    # plt.savefig(\"figpath/{}.png\".format(f_no))\n",
    "\n",
    "        # bounds = np.append(digits[:-1]-0.5,digits[-1]+0.5)\n",
    "    # bounds = np.array((-0.5,4.5))\n",
    "    # print(type(bounds),bounds)\n",
    "    # plt.colorbar(boundaries=bounds).set_ticks(digits)\n",
    "\n",
    "    \n"
   ]
  },
  {
   "cell_type": "code",
   "execution_count": null,
   "metadata": {},
   "outputs": [],
   "source": [
    "def shuffle_arrays(arrays, set_seed=-1):\n",
    "    \"\"\"Shuffles arrays in-place, in the same order, along axis=0\n",
    "\n",
    "    Parameters:\n",
    "    -----------\n",
    "    arrays : List of NumPy arrays.\n",
    "    set_seed : Seed value if int >= 0, else seed is random.\n",
    "    \"\"\"\n",
    "    assert all(len(arr) == len(arrays[0]) for arr in arrays)\n",
    "    seed = np.random.randint(0, 2**(32 - 1) - 1) if set_seed < 0 else set_seed\n",
    "\n",
    "    for arr in arrays:\n",
    "        rstate = np.random.RandomState(seed)\n",
    "        rstate.shuffle(arr)"
   ]
  },
  {
   "cell_type": "code",
   "execution_count": null,
   "metadata": {},
   "outputs": [],
   "source": [
    "def plot_umaps(weights,target,digits):\n",
    "\n",
    "    wa = []\n",
    "    ta = []\n",
    "\n",
    "    for i in digits:\n",
    "\n",
    "        index = np.where(target == i)\n",
    "\n",
    "        weights_array_temp = weights[tuple(index)]\n",
    "        targets_array_temp = np.ones(weights_array_temp.shape[0])*target[index[0][0]]\n",
    "\n",
    "        wa.append(weights_array_temp)\n",
    "        ta.append(targets_array_temp)\n",
    "\n",
    "\n",
    "    wa = np.vstack(wa)\n",
    "    ta = np.hstack(ta)\n",
    "\n",
    "    shuffle_arrays([wa,ta])\n",
    "\n",
    "    return wa,ta"
   ]
  },
  {
   "cell_type": "code",
   "execution_count": null,
   "metadata": {},
   "outputs": [],
   "source": [
    "for a,b in it.combinations(np.arange(10), 2):\n",
    "\n",
    "    ws,ts = plot_umaps(weights_array,targets,np.array([a,b]))\n",
    "\n",
    "    embedding = reducer.fit_transform(np.delete(ws,np.s_[9050:-1],1))\n",
    "\n",
    "    plot_fig(embedding,ts,np.array([a,b]))"
   ]
  },
  {
   "attachments": {},
   "cell_type": "markdown",
   "metadata": {},
   "source": [
    "### Classifier"
   ]
  },
  {
   "cell_type": "code",
   "execution_count": 7,
   "metadata": {},
   "outputs": [],
   "source": [
    "def classifier(input_array,c_name,scale,pca_val = None):\n",
    "\n",
    "    input_data = input_array\n",
    "\n",
    "    \n",
    "    if scale == True:\n",
    "        \n",
    "        scaler = StandardScaler()\n",
    "        input_data = scaler.fit_transform(input_data)\n",
    "\n",
    "    if pca_val != None:\n",
    "\n",
    "        pca = PCA(n_components=pca_val)\n",
    "        input_data = pca.fit_transform(input_data)\n",
    "        \n",
    "\n",
    "    x_train, x_test, y_train, y_test = train_test_split(input_data, targets, test_size=0.25, random_state=42)\n",
    "\n",
    "    if c_name == \"logit\":\n",
    "\n",
    "        logisticRegr = LogisticRegression(solver = 'lbfgs')\n",
    "        logisticRegr.fit(x_train, y_train)\n",
    "\n",
    "        y_pred = logisticRegr.predict(x_test)\n",
    "\n",
    "        # Use score method to get accuracy of model\n",
    "        test_accuracy = logisticRegr.score(x_test, y_test)\n",
    "        train_accuracy = logisticRegr.score(x_train,y_train)\n",
    "        \n",
    "    if c_name == \"forest\":\n",
    "        \n",
    "        rf = RandomForestClassifier(n_estimators=300,max_depth=14)\n",
    "        rf.fit(x_train, y_train)    \n",
    "\n",
    "        y_pred = rf.predict(x_test)\n",
    "        y_pred_train = rf.predict(x_train)\n",
    "\n",
    "        test_accuracy = accuracy_score(y_test, y_pred)\n",
    "        train_accuracy = accuracy_score(y_train, y_pred_train)\n",
    "    \n",
    "    # Metrics\n",
    "\n",
    "    print(\"Test accuracy\",test_accuracy,\"Train accuracy\",train_accuracy)\n",
    "            \n",
    "    cm = metrics.confusion_matrix(y_test, y_pred) # Confusion matrix\n",
    "\n",
    "    plt.figure(figsize=(9,9))\n",
    "    sns.heatmap(cm, annot=True, fmt=\".3f\", linewidths=.5, square = True, cmap = 'Blues_r');\n",
    "    plt.ylabel('Actual label');\n",
    "    plt.xlabel('Predicted label');\n",
    "    all_sample_title = 'Accuracy Score: {0}'.format(test_accuracy)\n",
    "    plt.title(all_sample_title, size = 15);\n",
    "    plt.savefig(\"C:/Users/ayush/OneDrive/Desktop/UoE/Dissertation/Implicit Networks/plots/metrics/{classifier}_{pca}.pdf\".format(classifier = c_name,pca = pca_val))\n",
    "        \n",
    "    return 0"
   ]
  },
  {
   "attachments": {},
   "cell_type": "markdown",
   "metadata": {},
   "source": [
    "### Visualise"
   ]
  },
  {
   "cell_type": "code",
   "execution_count": 8,
   "metadata": {},
   "outputs": [
    {
     "name": "stdout",
     "output_type": "stream",
     "text": [
      "Test accuracy 0.3976 Train accuracy 0.9997333333333334\n"
     ]
    },
    {
     "data": {
      "text/plain": [
       "0"
      ]
     },
     "execution_count": 8,
     "metadata": {},
     "output_type": "execute_result"
    },
    {
     "data": {
      "image/png": "[encoded data removed]",
      "text/plain": [
       "<Figure size 648x648 with 2 Axes>"
      ]
     },
     "metadata": {
      "needs_background": "light"
     },
     "output_type": "display_data"
    }
   ],
   "source": [
    "classifier(weights_array,'forest',True,200)"
   ]
  },
  {
   "attachments": {},
   "cell_type": "markdown",
   "metadata": {},
   "source": [
    "#### SVM with RBF"
   ]
  },
  {
   "cell_type": "code",
   "execution_count": null,
   "metadata": {},
   "outputs": [],
   "source": [
    "# from sklearn.svm import SVC, LinearSVC\n",
    "# from sklearn.metrics import confusion_matrix\n",
    "# from sklearn.metrics import accuracy_score"
   ]
  },
  {
   "cell_type": "code",
   "execution_count": null,
   "metadata": {},
   "outputs": [],
   "source": [
    "# coefficient = []\n",
    "# n_supp = []\n",
    "# sup_vec = []\n",
    "# i = 0\n",
    "# df = pd.DataFrame(columns = ['c','gamma','train_acc','test_acc'])\n",
    "# for c in [10]:\n",
    "#     for g in [0.01]:\n",
    "#         svm = SVC(kernel='rbf', C=c, gamma=g)\n",
    "#         model = svm.fit(x_train, y_train)\n",
    "#         globals()['model%s' % i] = model\n",
    "#         d_coef = svm.dual_coef_\n",
    "#         support = svm.n_support_\n",
    "#         sv = svm.support_\n",
    "    \n",
    "#         p_tr = svm.predict(x_train)\n",
    "#         a_tr = accuracy_score(y_train, p_tr)\n",
    "    \n",
    "#         pred = svm.predict(x_test)\n",
    "#         a = accuracy_score(y_test, pred)\n",
    "    \n",
    "#         coefficient.append(d_coef)\n",
    "#         n_supp.append(support)\n",
    "#         sup_vec.append(sv)\n",
    "#         df.loc[i] = [c,g,a_tr,a]\n",
    "#         i=i+1\n",
    "\n"
   ]
  },
  {
   "cell_type": "markdown",
   "metadata": {},
   "source": [
    "### Archive"
   ]
  },
  {
   "cell_type": "code",
   "execution_count": null,
   "metadata": {},
   "outputs": [],
   "source": [
    "# list1 = np.array([0,5])\n",
    "\n",
    "# wa = []\n",
    "# ta = []\n",
    "\n",
    "# for i in list1:\n",
    "\n",
    "#     index = np.where(targets == i)\n",
    "\n",
    "#     weights_array_temp = weights_array[tuple(index)]\n",
    "#     targets_array_temp = np.ones(weights_array_temp.shape[0])*targets[index[0][0]]\n",
    "\n",
    "#     wa.append(weights_array_temp)\n",
    "#     ta.append(targets_array_temp)\n",
    "\n",
    "\n",
    "# wa = np.vstack(wa)\n",
    "# ta = np.hstack(ta)\n",
    "\n",
    "# shuffle_arrays([wa,ta])\n",
    "\n",
    "# embedding = reducer.fit_transform(np.delete(wa,np.s_[9050:-1],1))\n",
    "\n",
    "# plot_fig(embedding,ta,list1,5)"
   ]
  },
  {
   "cell_type": "code",
   "execution_count": null,
   "metadata": {},
   "outputs": [],
   "source": [
    "# weights_pd = pd.DataFrame.from_dict(weights)\n",
    "# weights_pd['digit'] = pd.Series(targets).map(lambda x: 'Digit {}'.format(x))"
   ]
  },
  {
   "cell_type": "code",
   "execution_count": null,
   "metadata": {},
   "outputs": [],
   "source": [
    "# def plot_embedding(interval=19):\n",
    "\n",
    "#     for i in range(interval):\n",
    "\n",
    "#         embedding = reducer.fit_transform(np.delete(weights_array,np.s_[500+i:-1],1))\n",
    "\n",
    "#         plot_fig(embedding,targets,500+i)\n",
    "\n",
    "#     embedding = reducer.fit_transform(np.delete(weights_array,np.s_[9049+i:-1],1))\n",
    "#     plot_fig(embedding,targets,9049)\n"
   ]
  }
 ],
 "metadata": {
  "kernelspec": {
   "display_name": "MLAI",
   "language": "python",
   "name": "python3"
  },
  "language_info": {
   "codemirror_mode": {
    "name": "ipython",
    "version": 3
   },
   "file_extension": ".py",
   "mimetype": "text/x-python",
   "name": "python",
   "nbconvert_exporter": "python",
   "pygments_lexer": "ipython3",
   "version": "3.9.10"
  },
  "orig_nbformat": 4
 },
 "nbformat": 4,
 "nbformat_minor": 2
}
